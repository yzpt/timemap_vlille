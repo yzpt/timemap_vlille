{
 "cells": [
  {
   "cell_type": "code",
   "execution_count": 1,
   "metadata": {},
   "outputs": [],
   "source": [
    "import pandas as pd\n",
    "import plotly.express as px\n",
    "import plotly.io as pio\n",
    "import os"
   ]
  },
  {
   "cell_type": "code",
   "execution_count": 2,
   "metadata": {},
   "outputs": [],
   "source": [
    "# Get the list of files in the \"data\" folder\n",
    "folder_path = 'data_23_09_27/'\n",
    "file_list = os.listdir(folder_path)\n",
    "file_list.sort()"
   ]
  },
  {
   "cell_type": "code",
   "execution_count": 3,
   "metadata": {},
   "outputs": [],
   "source": [
    "dir = 'img_23_09_27/'"
   ]
  },
  {
   "cell_type": "code",
   "execution_count": 4,
   "metadata": {},
   "outputs": [],
   "source": [
    "os.system('rm -r ' + dir)\n",
    "\n",
    "# os mkdir img_7h:\n",
    "os.mkdir(dir)\n",
    "\n",
    "# Loop through each file in the folder\n",
    "# for file_name in file_list[360:540]:\n",
    "for file_name in file_list:\n",
    "    # Construct the file path\n",
    "    file_path = os.path.join(folder_path, file_name)\n",
    "    \n",
    "    # Read the file into a dataframe\n",
    "    df = pd.read_csv(file_path)\n",
    "\n",
    "    # remove line with ratio == null\n",
    "    df = df[df['ratio'].notna()]\n",
    "\n",
    "\n",
    "\n",
    "    fig = px.scatter_mapbox(\n",
    "    df, \n",
    "    lat=\"latitude\", \n",
    "    lon=\"longitude\",\n",
    "    size=\"nb_velos_dispo\",\n",
    "    # size_min=10,\n",
    "    size_max=40,\n",
    "    # color=\"rgb(66, 133, 244)\",\n",
    "    # color_continuous_scale=[[0, 'rgb(66, 133, 244)'], [0.5, 'rgb(244, 180,0)'] [1, 'rgb(15, 157, 88)']],\n",
    "    # color_continuous_scale=['red', 'orange', 'green' ],\n",
    "    # color_continuous_scale='Portland',\n",
    "    \n",
    "    zoom=12, \n",
    "    height=400,\n",
    "    width=400,\n",
    "    center={\"lat\": 50.63237, \"lon\": 3.05816}\n",
    "    )\n",
    "\n",
    "    fig.update_layout(mapbox_style=\"open-street-map\")    \n",
    "    fig.update_layout(margin={\"r\":0,\"t\":0,\"l\":0,\"b\":0})\n",
    "    fig.update_coloraxes(showscale=False)\n",
    "\n",
    "    # Add file name on top left of the large-sized figure\n",
    "    fig.add_annotation(\n",
    "        x=0.07,\n",
    "        y=0.88,\n",
    "        xref=\"paper\",\n",
    "        yref=\"paper\",\n",
    "        text=file_name[:2] + ':' + file_name[2:4],\n",
    "        showarrow=False,\n",
    "        font=dict(size=50)\n",
    "    )\n",
    "    \n",
    "\n",
    "    # Save figure to PNGsize_max=40\n",
    "    pio.write_image(fig, dir + file_name[:-4] +'.png')\n",
    "\n"
   ]
  },
  {
   "cell_type": "code",
   "execution_count": null,
   "metadata": {},
   "outputs": [],
   "source": [
    "!pip install imageio\n",
    "!pip install imageio-ffmpeg\n",
    "!pip install av"
   ]
  },
  {
   "cell_type": "code",
   "execution_count": 5,
   "metadata": {},
   "outputs": [
    {
     "name": "stderr",
     "output_type": "stream",
     "text": [
      "/tmp/ipykernel_14501/2872751158.py:8: DeprecationWarning:\n",
      "\n",
      "Starting with ImageIO v3 the behavior of this function will switch to that of iio.v3.imread. To keep the current behavior (and make this warning disappear) use `import imageio.v2 as imageio` or call `imageio.v2.imread` directly.\n",
      "\n"
     ]
    }
   ],
   "source": [
    "import os\n",
    "import imageio\n",
    "\n",
    "path = dir\n",
    "\n",
    "initial_files = os.listdir(path)\n",
    "images = sorted([img for img in os.listdir(path) if img.endswith(\".png\")])\n",
    "image_files = [imageio.imread(path + '/' + img) for img in images]\n",
    "\n",
    "imageio.mimsave('output/' + path[:-1] + '.mp4', image_files, fps=24)  # fps specifies the frames per second"
   ]
  },
  {
   "cell_type": "code",
   "execution_count": null,
   "metadata": {},
   "outputs": [],
   "source": []
  }
 ],
 "metadata": {
  "kernelspec": {
   "display_name": "venv",
   "language": "python",
   "name": "python3"
  },
  "language_info": {
   "codemirror_mode": {
    "name": "ipython",
    "version": 3
   },
   "file_extension": ".py",
   "mimetype": "text/x-python",
   "name": "python",
   "nbconvert_exporter": "python",
   "pygments_lexer": "ipython3",
   "version": "3.10.12"
  }
 },
 "nbformat": 4,
 "nbformat_minor": 2
}
