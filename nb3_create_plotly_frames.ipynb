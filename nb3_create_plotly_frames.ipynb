{
 "cells": [
  {
   "cell_type": "code",
   "execution_count": 5,
   "metadata": {},
   "outputs": [],
   "source": [
    "import pandas as pd\n",
    "import plotly.express as px\n",
    "import plotly.io as pio\n",
    "import os"
   ]
  },
  {
   "cell_type": "code",
   "execution_count": 7,
   "metadata": {},
   "outputs": [],
   "source": [
    "# Get the list of files in the \"data\" folder\n",
    "folder_path = 'data/'\n",
    "file_list = os.listdir(folder_path)\n",
    "\n",
    "# Loop through each file in the folder\n",
    "for file_name in file_list:\n",
    "    # Construct the file path\n",
    "    file_path = os.path.join(folder_path, file_name)\n",
    "    \n",
    "    # Read the file into a dataframe\n",
    "    df = pd.read_csv(file_path)\n",
    "\n",
    "    fig = px.scatter_mapbox(\n",
    "        df, \n",
    "        lat=\"latitude\", \n",
    "        lon=\"longitude\",\n",
    "        size=\"nb_velos_dispo\",\n",
    "        color_discrete_sequence=[\"fuchsia\"], \n",
    "        zoom=12.5, \n",
    "        height=600,\n",
    "        width=600,\n",
    "        center={\"lat\": 50.63237, \"lon\": 3.05816}\n",
    "    )\n",
    "\n",
    "    fig.update_layout(mapbox_style=\"open-street-map\")    \n",
    "    fig.update_layout(margin={\"r\":0,\"t\":0,\"l\":0,\"b\":0})\n",
    "\n",
    "    # Save figure to PNG\n",
    "    pio.write_image(fig, 'img/' + file_name[:-4] +'.png')\n",
    "\n"
   ]
  },
  {
   "cell_type": "code",
   "execution_count": null,
   "metadata": {},
   "outputs": [],
   "source": []
  }
 ],
 "metadata": {
  "kernelspec": {
   "display_name": "venv",
   "language": "python",
   "name": "python3"
  },
  "language_info": {
   "codemirror_mode": {
    "name": "ipython",
    "version": 3
   },
   "file_extension": ".py",
   "mimetype": "text/x-python",
   "name": "python",
   "nbconvert_exporter": "python",
   "pygments_lexer": "ipython3",
   "version": "3.10.12"
  }
 },
 "nbformat": 4,
 "nbformat_minor": 2
}
